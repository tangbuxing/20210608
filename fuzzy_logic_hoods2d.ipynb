{
 "cells": [
  {
   "cell_type": "code",
   "execution_count": 1,
   "metadata": {},
   "outputs": [],
   "source": [
    "## 计算观测场，预报场的统计量"
   ]
  },
  {
   "cell_type": "code",
   "execution_count": 2,
   "metadata": {},
   "outputs": [],
   "source": [
    "import sys"
   ]
  },
  {
   "cell_type": "code",
   "execution_count": 3,
   "metadata": {},
   "outputs": [],
   "source": [
    "sys.path.append('../')"
   ]
  },
  {
   "cell_type": "code",
   "execution_count": 4,
   "metadata": {},
   "outputs": [],
   "source": [
    "from fuzzy_logic.lib.make_spatialVx import make_spatialVx"
   ]
  },
  {
   "cell_type": "code",
   "execution_count": 5,
   "metadata": {},
   "outputs": [],
   "source": [
    "# pip install pyreadr"
   ]
  },
  {
   "cell_type": "code",
   "execution_count": 6,
   "metadata": {},
   "outputs": [],
   "source": [
    "# pip install pynverse"
   ]
  },
  {
   "cell_type": "code",
   "execution_count": 7,
   "metadata": {},
   "outputs": [],
   "source": [
    "import pyreadr"
   ]
  },
  {
   "cell_type": "code",
   "execution_count": 8,
   "metadata": {},
   "outputs": [],
   "source": [
    "from fuzzy_logic import hoods2d"
   ]
  },
  {
   "cell_type": "code",
   "execution_count": 9,
   "metadata": {},
   "outputs": [],
   "source": [
    "import matplotlib.pyplot as plt"
   ]
  },
  {
   "cell_type": "code",
   "execution_count": 10,
   "metadata": {},
   "outputs": [],
   "source": [
    "import numpy as np"
   ]
  },
  {
   "cell_type": "code",
   "execution_count": 19,
   "metadata": {},
   "outputs": [
    {
     "data": {
      "text/plain": [
       "'\\nwhich_methos 表示计算的统计量，类型为list，list元素为以下， 括号内为返回值\\nmincvr（pod, far, ets），multi.event( pod, f ,hk)，fuzzy(pod, far ,ets)，joint(pod, far,ets)，fss( fss, fss.uniform, fss.random), pragmatic(bs ,bss)\\nmulti.event与pragmatic 没有被平滑的观测场与一个邻域平滑的预测场进行比较\\n其余为邻域平滑的观测场与一个邻域平滑的预测场进行比较\\npod 命中/(命中+ 失误).\\nfar 误报率，误报/命中+误报\\nf错误检测率 误报/（正确拒绝+误报）\\nets 公平威胁得分，（命中-hits.random）/（命中+失误+误报-hits.random） hits.random是观测事件数乘以预测事件数除以总预测数\\n\\nhk pod - f\\n\\nbs 均方根误差\\n'"
      ]
     },
     "execution_count": 19,
     "metadata": {},
     "output_type": "execute_result"
    }
   ],
   "source": [
    "'''\n",
    "hoods2d共包含10个参数， 分别为 input_object, which_methods, time_point, obs, model, pe, levels, max_n, rule, verbose\n",
    "\n",
    "其中input_object为必选参数， 为 make_spatialVx 方法的输出结果\n",
    "\n",
    "which_methods, time_point, obs, model, pe, levels, max_n, rule, verbose 为可选参数\n",
    "\n",
    "    which_methos 表示计算的统计量，类型为list，list元素为以下， 括号内为返回值\n",
    "    mincvr（pod, far, ets），multi_event( pod, f ,hk)，fuzzy(pod, far ,ets)，joint(pod, far,ets)，fss( fss, fss.uniform, fss.random), pragmatic(bs ,bss)\n",
    "    multi_event与pragmatic 没有被平滑的观测场与一个邻域平滑的预测场进行比较\n",
    "    其余为邻域平滑的观测场与一个邻域平滑的预测场进行比较\n",
    "    \n",
    "    部分返回值含义如下:\n",
    "        pod 命中/(命中+ 失误).\n",
    "        far 误报率，误报/命中+误报\n",
    "        f错误检测率 误报/（正确拒绝+误报）\n",
    "        ets 公平威胁得分，（命中-hits.random）/（命中+失误+误报-hits.random） hits.random是观测事件数乘以预测事件数除以总预测数\n",
    "        hk pod - f\n",
    "        bs 均方根误差\n",
    "        \n",
    "    参考文献:\n",
    "        mincvr\n",
    "            Ebert, E. E. (2008) Fuzzy verification of high resolution gridded forecasts: A review and proposed framework. Meteorol. Appl., 15, 51–64. doi:10.1002/met.25\n",
    "            Ebert, E. E. (2009) Neighborhood verification: A strategy for rewarding close forecasts. Wea. Forecasting, 24, 1498–1510, doi:10.1175/2009WAF2222251.1.\n",
    "        multi_event\n",
    "            Atger, F. (2001) Verification of intense precipitation forecasts from single models and ensemble prediction systems. Nonlin. Proc. Geophys., 8, 401–417.\n",
    "        fuzzy\n",
    "            Ebert, E. E. (2008) Fuzzy verification of high resolution gridded forecasts: A review and proposed framework. Meteorol. Appl., 15, 51–64. doi:10.1002/met.25\n",
    "        joint\n",
    "            Ebert, E. E. (2008) Fuzzy verification of high resolution gridded forecasts: A review and proposed framework. Meteorol. Appl., 15, 51–64. doi:10.1002/met.25\n",
    "        fss\n",
    "            Roberts, N. M. and Lean, H. W. (2008) Scale-selective verification of rainfall accumulations from high-resolution forecasts of convective events. Mon. Wea. Rev., 136, 78–97. doi:10.1175/2007MWR2123.1.\n",
    "        pragmatic\n",
    "            Theis, S. E., Hense, A. Damrath, U. (2005) Probabilistic precipitation forecasts from a deterministic model: A pragmatic approach. Meteorol. Appl., 12, 257–268.\n",
    "\n",
    "time_point 数字，代表分析的时间点\n",
    "\n",
    "obs, model 数字，代表分析的观测场、预报场\n",
    "\n",
    "pe None, 数字或数字列表， 计算spx， spy时的threshold。 列表时维度与levels一致\n",
    "\n",
    "levels 数字数组， 代表平滑参数的连续值\n",
    "    默认方法使用邻域的长度，平均化对应levels的 levels^2 最近邻域点。\n",
    "    值应该对特定的平滑函数有意义。例如，对于默认的方法，这些应该是奇数的整数。\n",
    "    \n",
    "max_n 数字， 代表最大领域长度，仅在levels为None时设置，否则设为None\n",
    "\n",
    "rule 代表threshold的规则，可选值为 >=, >, <, <=\n",
    "\n",
    "verbose 布尔值，是否打印日志\n",
    "\n",
    "返回值为dict， 根据所选的which_method返回结果\n",
    "'''"
   ]
  },
  {
   "cell_type": "code",
   "execution_count": 14,
   "metadata": {},
   "outputs": [],
   "source": [
    "## 使用make_spatialVx 进行准备工作，详细输入输出参考make_spatialVx文档"
   ]
  },
  {
   "cell_type": "code",
   "execution_count": 15,
   "metadata": {},
   "outputs": [],
   "source": [
    "geom000 = pyreadr.read_r('./data/geom000.Rdata')['geom000']\n",
    "geom001 = pyreadr.read_r('./data/geom001.Rdata')['geom001']\n",
    "ICPg240Locs = pyreadr.read_r('./data/ICPg240Locs.Rdata')['ICPg240Locs']\n",
    "hold = make_spatialVx(geom000, geom001, loc=ICPg240Locs, fieldtype=\"Geometric Objects Pretending to be Precipitation\",\n",
    "                          units=\"mm/h\", thresholds = [0.01, 50.01],\n",
    "                          dataname=\"ICP Geometric Cases\", obsname=\"geom000\", modelname=\"geom001\")"
   ]
  },
  {
   "cell_type": "code",
   "execution_count": 16,
   "metadata": {},
   "outputs": [
    {
     "name": "stdout",
     "output_type": "stream",
     "text": [
      "Looping through thresholds.\n",
      "\n",
      "\n",
      " Setting up binary objects for threshold  0 \n",
      "\n",
      "Looping through levels.\n",
      "\n",
      "Neighborhood length =  1 \n",
      "\n",
      "Neighborhood length =  3 \n",
      "\n",
      "Neighborhood length =  9 \n",
      "\n",
      "Neighborhood length =  17 \n",
      "\n",
      "Neighborhood length =  33 \n",
      "\n",
      "Neighborhood length =  65 \n",
      "\n",
      "Neighborhood length =  129 \n",
      "\n",
      "Neighborhood length =  257 \n",
      "\n",
      "\n",
      " Setting up binary objects for threshold  1 \n",
      "\n",
      "Looping through levels.\n",
      "\n",
      "Neighborhood length =  1 \n",
      "\n",
      "Neighborhood length =  3 \n",
      "\n",
      "Neighborhood length =  9 \n",
      "\n",
      "Neighborhood length =  17 \n",
      "\n",
      "Neighborhood length =  33 \n",
      "\n",
      "Neighborhood length =  65 \n",
      "\n",
      "Neighborhood length =  129 \n",
      "\n",
      "Neighborhood length =  257 \n",
      "\n",
      "7.410426378250122\n"
     ]
    },
    {
     "data": {
      "text/plain": [
       "<matplotlib.legend.Legend at 0x7f38e8d5b828>"
      ]
     },
     "execution_count": 16,
     "metadata": {},
     "output_type": "execute_result"
    },
    {
     "data": {
      "image/png": "[encoded data removed]",
      "text/plain": [
       "<Figure size 432x288 with 1 Axes>"
      ]
     },
     "metadata": {
      "needs_background": "light"
     },
     "output_type": "display_data"
    }
   ],
   "source": [
    "look = hoods2d.hoods2d(hold, levels=[1, 3, 9, 17, 33, 65, 129, 257], verbose=True)\n",
    "bss = look[\"pragmatic\"][\"bss\"]\n",
    "pltx = bss.shape[0]\n",
    "plt.plot(bss[:, 0], label = 0.01)\n",
    "plt.plot(bss[:, 1], label = 50.01)\n",
    "plt.legend()"
   ]
  }
 ],
 "metadata": {
  "kernelspec": {
   "display_name": "Python 3",
   "language": "python",
   "name": "python3"
  },
  "language_info": {
   "codemirror_mode": {
    "name": "ipython",
    "version": 3
   },
   "file_extension": ".py",
   "mimetype": "text/x-python",
   "name": "python",
   "nbconvert_exporter": "python",
   "pygments_lexer": "ipython3",
   "version": "3.6.9"
  }
 },
 "nbformat": 4,
 "nbformat_minor": 4
}
