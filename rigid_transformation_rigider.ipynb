{
 "cells": [
  {
   "cell_type": "code",
   "execution_count": 1,
   "metadata": {},
   "outputs": [],
   "source": [
    "# rigider方法主要用途为计算刚体变换参数"
   ]
  },
  {
   "cell_type": "code",
   "execution_count": 2,
   "metadata": {},
   "outputs": [],
   "source": [
    "import sys"
   ]
  },
  {
   "cell_type": "code",
   "execution_count": 3,
   "metadata": {},
   "outputs": [],
   "source": [
    "sys.path.append('../')"
   ]
  },
  {
   "cell_type": "code",
   "execution_count": 4,
   "metadata": {},
   "outputs": [],
   "source": [
    "import numpy as np"
   ]
  },
  {
   "cell_type": "code",
   "execution_count": 5,
   "metadata": {},
   "outputs": [],
   "source": [
    "import matplotlib.pyplot as plt"
   ]
  },
  {
   "cell_type": "code",
   "execution_count": 6,
   "metadata": {},
   "outputs": [],
   "source": [
    "import rigider"
   ]
  },
  {
   "cell_type": "code",
   "execution_count": 7,
   "metadata": {},
   "outputs": [],
   "source": [
    "# rigider 方法共包含10个参数， 分别为 x1, x0, p0, init, func_type, translate, rotate,interp, stages, verbose"
   ]
  },
  {
   "cell_type": "code",
   "execution_count": 8,
   "metadata": {},
   "outputs": [],
   "source": [
    "# 其中 x1,x0，p0为必选参数， x1, x0都是二值矩阵，分别代表观测场和预报场， p0为两列的二维矩阵，代表对应的坐标信息"
   ]
  },
  {
   "cell_type": "code",
   "execution_count": 9,
   "metadata": {},
   "outputs": [],
   "source": [
    "# init, func_type, translate, rotate, interp, stages, verbose 为可选参数\n",
    "# init 是优化函数的初始值，包含三个元素的一维数组，，其中的第一第二个元素代表质心的位移，第三个元素代表旋转的角度。\n",
    "# func_type 代表刚体变换模式，可选值为\"regular\", \"fast\"，regular代表使用优化函数迭代求值，fast直接计算质心位移和旋转角度\n",
    "# translate 布尔值，代表是否平移\n",
    "# rotate 布尔值，代表是否旋转\n",
    "# interp 插值方式，可选为round”， “bilinear”, “bicubic”, 分别代表最邻近插值,双线性插值,双三次插值。\n",
    "# stages 布尔值，是否在旋转前优先平移\n",
    "# verbose 布尔值，是否打印日志"
   ]
  },
  {
   "cell_type": "code",
   "execution_count": 10,
   "metadata": {},
   "outputs": [],
   "source": [
    "# 主要的返回值包含：\n",
    "# translation_only: 如果stage为true，则代表旋转前的平移优化结果\n",
    "# rotate： 如果stage为true，则代表平移后的平移+旋转优化结果\n",
    "# initial，interp_method， x0, x1, p0: 同输入的init, interp, x0, x1, p0\n",
    "# par: 最优刚体变换参数，字典，视输入情况包含\"x\", \"y\", \"theta\"\n",
    "# value: 最优结果的loss function值\n",
    "# p1: p0变换后的坐标，二维数组\n",
    "# x1_transformed: 变换后的x1矩阵，二维数组"
   ]
  },
  {
   "cell_type": "code",
   "execution_count": 13,
   "metadata": {
    "scrolled": true
   },
   "outputs": [
    {
     "data": {
      "image/png": "[encoded data removed]",
      "text/plain": [
       "<Figure size 432x288 with 1 Axes>"
      ]
     },
     "metadata": {
      "needs_background": "light"
     },
     "output_type": "display_data"
    },
    {
     "data": {
      "image/png": "[encoded data removed]",
      "text/plain": [
       "<Figure size 432x288 with 1 Axes>"
      ]
     },
     "metadata": {
      "needs_background": "light"
     },
     "output_type": "display_data"
    },
    {
     "data": {
      "image/png": "[encoded data removed]",
      "text/plain": [
       "<Figure size 432x288 with 1 Axes>"
      ]
     },
     "metadata": {
      "needs_background": "light"
     },
     "output_type": "display_data"
    }
   ],
   "source": [
    "    x = np.zeros((20, 40))\n",
    "    y = np.zeros((20, 40))\n",
    "    x[11:18, 1:3] = 1\n",
    "    y[12:19, 4:6] = 1\n",
    "    range0 = np.tile(np.arange(1, 21), 40)\n",
    "    range1 = (np.arange(1, 41)).repeat(20)\n",
    "    loc = np.stack((range0, range1), axis=-1)\n",
    "    tmp = rigider.rigider(x1=x, x0=y, p0=loc)\n",
    "    plt.imshow(tmp['x0'].transpose())\n",
    "    plt.show()\n",
    "    plt.imshow(tmp['x1'].transpose())\n",
    "    plt.show()\n",
    "    plt.imshow(tmp['x1_translated'].transpose() - tmp['x0'].transpose())\n",
    "    plt.show()\n",
    "    "
   ]
  },
  {
   "cell_type": "code",
   "execution_count": null,
   "metadata": {},
   "outputs": [],
   "source": []
  }
 ],
 "metadata": {
  "kernelspec": {
   "display_name": "Python 3",
   "language": "python",
   "name": "python3"
  },
  "language_info": {
   "codemirror_mode": {
    "name": "ipython",
    "version": 3
   },
   "file_extension": ".py",
   "mimetype": "text/x-python",
   "name": "python",
   "nbconvert_exporter": "python",
   "pygments_lexer": "ipython3",
   "version": "3.6.9"
  }
 },
 "nbformat": 4,
 "nbformat_minor": 4
}
